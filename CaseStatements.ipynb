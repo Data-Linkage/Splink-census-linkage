{
  "metadata": {
    "language_info": {
      "codemirror_mode": {
        "name": "python",
        "version": 3
      },
      "file_extension": ".py",
      "mimetype": "text/x-python",
      "name": "python",
      "nbconvert_exporter": "python",
      "pygments_lexer": "ipython3",
      "version": "3.8"
    },
    "kernelspec": {
      "name": "python",
      "display_name": "Python (Pyodide)",
      "language": "python"
    }
  },
  "nbformat_minor": 4,
  "nbformat": 4,
  "cells": [
    {
      "cell_type": "markdown",
      "source": "# Case statements",
      "metadata": {}
    },
    {
      "cell_type": "markdown",
      "source": "## First name",
      "metadata": {
        "tags": []
      }
    },
    {
      "cell_type": "markdown",
      "source": "| Agreement level | Agreement description | Case statement |\n| --- | --- | --- |\n| 3 | Full agreement – first name strings are identical with a Jaro-Winkler score of ≥1.0 | WHEN (jaro_winkler_sim(fn_l, fn_r) >= 1.0) THEN 3 |\n| 2 | Partial agreement – first name strings either have: a) a Jaro-Winkler score of ≥ 0.88, or b) transposed first name and middle name, or c) transposed first name and surname | WHEN(jaro_winkler_sim(fn_l, fn_r) >= 0.88) OR <br /> (fn_l = mn_r AND mn_l = fn_r) OR <br /> (fn_l = sn_r AND sn_l = fn_r) THEN 2 |\n| 1 | Partial agreement – first name strings have a standardised Levenshtein Edit Distance of ≥ 0.401 | WHEN (1 – ((levenshtein(fn_l, fn_r)) / greatest(length(fn_l), length(fn_r))) >= 0.401) THEN 1|\n| 0 | Full disagreement | ELSE 0 | \n| -1 | Missing - one or both first names | WHEN (fn_l IS NULL OR fn_r IS NULL) THEN -1 |\n",
      "metadata": {}
    },
    {
      "cell_type": "markdown",
      "source": "## Surname",
      "metadata": {
        "tags": []
      }
    },
    {
      "cell_type": "markdown",
      "source": "| Agreement level | Agreement description | Case statement |\n| --- | --- | --- |\n| 3 | Full agreement – surname strings are identical with a Jaro-Winkler score of ≥ 1.0 | WHEN (jaro_winkler_sim(sn_l, sn_r) >= 1.0) THEN 3 |\n| 2 | Partial agreement – surname strings either have: a) a Jaro-Winkler score of ≥ 0.88, or b) transposed surname and first name, or c) transposed surname and middle name | WHEN (jaro_winkler_sim(sn_l, sn_r) >= 0.88) OR <br /> (sn_l = fn_r AND fn_l = sn_r) OR <br /> (sn_l = mn_r AND mn_l = sn_r) THEN 2 |\n| 1 | Partial agreement – surname strings have a standardised Levenshtein Edit Distance of ≥ 0.401 | WHEN (1 – ((levenshtein(sn_l, sn_r)) / greatest(length(sn_l), length(sn_r))) >= 0.401) THEN 1|\n| 0 | Full disagreement | ELSE 0 | \n| -1 | Missing - one or both surnames | WHEN (sn_l IS NULL OR sn_r IS NULL) THEN -1 |\n",
      "metadata": {}
    },
    {
      "cell_type": "markdown",
      "source": "## Middle Name",
      "metadata": {
        "tags": []
      }
    },
    {
      "cell_type": "markdown",
      "source": "| Agreement level | Agreement description | Case statement |\n| --- | --- | --- |\n| 3 | Full agreement – middle name strings are identical with a Jaro-Winkler score of ≥ 1.0 | WHEN (jaro_winkler_sim(mn_l, mn_r) >= 1.0) THEN 3 | \n| 2 | Partial agreement – middle name strings either have: a) a Jaro-Winkler score of ≥ 0.88, or b) transposed middle name and first name, or c) transposed middle name and surname | WHEN (jaro_winkler_sim(mn_l, mn_r) >= 0.88) OR <br /> (mn_l = fn_2 AND fn_l = mn_r) OR <br /> (mn_l = sn_r AND sn_l = mn_r) THEN 2 |\n| 1 | Partial agreement – middle name strings have a standardised Levenshtein Edit Distance of ≥ 0.401 | WHEN (1 – ((levenshtein(mn_l, mn_r)) / greatest(length(mn_l), length(mn_r))) >= 0.401 THEN 1 |\n| 0 | Full disagreement | ELSE 0 | \n| -1 | Missing - one or both middle names | WHEN (mn_l IS NULL OR mn_r IS NULL) THEN -1 |\n",
      "metadata": {}
    },
    {
      "cell_type": "markdown",
      "source": "## Student Status",
      "metadata": {
        "tags": []
      }
    },
    {
      "cell_type": "markdown",
      "source": "| Agreement level | Agreement description | Case statement |\n| --- | --- | --- |\n| 2 | In full-time education and aged 18 years or older | WHEN (stud_l = 1 AND stud_r = 1) AND (age_l >= 18 AND age_r >= 18) THEN 2 |\n| 1 | In full-time education but aged under 18 years | WHEN stud_l = stud_r THEN 1 |\n| 0 | Full disagreement | ELSE 0 |  \n| -1 | Missing - one or both student statuses | WHEN (stud_l IS NULL OR stud_r IS NULL) THEN -1 |\n",
      "metadata": {}
    },
    {
      "cell_type": "markdown",
      "source": "## Country of Birth ",
      "metadata": {
        "tags": []
      }
    },
    {
      "cell_type": "markdown",
      "source": "| Agreement level | Agreement description |  Case statement |\n| --- | --- | --- |\n| 5 | Country of birth matches and is any other country | ELSE 5 | \n| 4 | Country of birth matches and is ‘Iraq’, ‘Italy’, ‘Bangladesh’, ‘Nigeria’, ‘Germany’ or ‘South Africa’ | <br /> WHEN (cob_l = cob_r AND cob_l = “372” OR cob_l = “380” OR cob_l = “050” OR cob_l = “566” OR cob_l = “276” OR cob_l = “710”) THEN 4 |\n| 3 | Country of birth matches and is ‘India’, ‘Poland’, ‘Scotland’, ‘Pakistan’ or ‘Romania’ | <br /> WHEN (cob_l = cob_r AND cob_l = “356” OR cob_l = “616” OR cob_l = “923” OR cob_l = “586” OR cob_l = “642”) THEN 3 |\n| 2 | Country of birth matches and is ‘Wales’ | WHEN (cob_l = cob_r AND cob_l = “924”) THEN 2 |\n| 1 | Country of birth matches and is ‘England’ | WHEN (cob_l = cob_r AND cob_l = “921”) THEN 1 |\n| 0 | Full disagreement | WHEN (cob_l <> cob_r) THEN 0 | \n| -1 | Missing – one or both countries of birth | WHEN (cob_l IS NULL OR cob_r IS NULL) THEN -1 |",
      "metadata": {}
    },
    {
      "cell_type": "markdown",
      "source": "## Marital Status",
      "metadata": {
        "tags": []
      }
    },
    {
      "cell_type": "markdown",
      "source": "| Agreement level | Agreement description | Case statements | \n| --- | --- | --- |\n| 5 | Full agreement and marital status is any other status | ELSE 5 |\n| 4 | Full agreement and marital status is ‘widowed – opposite sex’ | WHEN (marstat_l = marstat_r AND marstat_l = ‘14’) THEN 4 |\n| 3 | Full agreement and marital status is ‘divorced – opposite sex’ | WHEN (marstat_l = marstat_r AND marstat_l = ‘10’) THEN 3 | \n| 2 | Full agreement and marital status is ‘never married or registered a civil partnership’ | WHEN (marstat_l = marstat_r AND marstat_l = ‘1’) THEN 2 |\n| 1 | Full agreement and marital status is ‘married – opposite sex’ | WHEN (marstat_l = marstat_r AND marstat_l = ‘2’) THEN 1 |\n| 0 | Full disagreement | WHEN (marstat_l <> marstat_r) THEN 0 |\n| -1 | Missing – one or both marital statuses | WHEN (marstat_l IS NULL OR marstat_r IS NULL) THEN -1 |\n",
      "metadata": {}
    },
    {
      "cell_type": "markdown",
      "source": "## Postcodes\n#### Main, workplace, second home and one-year-ago ",
      "metadata": {
        "tags": []
      }
    },
    {
      "cell_type": "markdown",
      "source": "| Agreement level | Agreement description | Case statements | \n| --- | --- | --- | \n| 5 | Full agreement – 3 or 4 of the 4 postcodes match | WHEN (pc_l = pc_r AND  wkplpc_l = wkplpc_r AND second_home_pc_l = second_home_pc_r AND yradpc_l = yradpc_r) OR <br /> (pc_l = pc_r AND wkplpc_l = wkplpc_r AND second_home_pc_l = second_home_pc_r) OR <br /> (pc_l = pc_r AND wkplpc_l = wkplpc_r AND yradpc_l = yradpc_r) OR <br /> (wkplpc_l = wkplpc_r AND second_home_pc_l = second_home_pc_r AND yradpc_l = yradpc_r) <br /> THEN 5 |\n| 4 | Partial agreement – 2 of the 4 postcodes match | WHEN (pc_l = pc_r AND wkplpc_l = wkplpc_r) OR <br /> (pc_l = pc_r AND second_home_pc_l = second_home_pc_r) OR <br /> (pc_l = pc_r AND yradpc_l = yradpc_r) OR <br /> (yradpc_l = yradpc_r AND wkplpc_l = wkplpc_r) OR <br /> (yradpc_l = yradpc_r AND second_home_pc_l = second_home_pc_r) OR <br /> (wkplpc_l = wkplpc_r AND second_home_pc_l = second_home_pc_r) <br /> THEN 4 |\n| 3 | Partial agreement – 1 of the 4 postcodes match | WHEN (pc_l = pc_r) OR <br /> (second_home_pc_l = second_home_pc_r) OR <br /> (yradpc_l = yradpc_r) <br /> THEN 3 |\n| 2 | Partial agreement – postcodes are transposed | WHEN (pc_l = wkplpc_r OR wkplpc_l = pc_r) OR <br /> (pc_l = second_home_pc_r OR second_home_pc_l = pc_r) OR <br /> (wkplpc_l = yradpc_r OR wkplpc_r = yradpc_l) OR <br /> (wkplpc_l = second_home_pc_r OR second_home_pc_l = wkplpc_r) OR <br /> (yradpc_l = second_home_pc_r OR second_home_pc_l = yradpc_r) OR <br /> (pc_l = yradpc_r OR yradpc_l = pc_r) OR <br /> (wkplpc_l = wkplpc_r) <br /> THEN 2 |\n| 1 | Partial agreement – postcode area matches | WHEN (pc_area_l = pc_area_r) <br /> THEN 1 |\n| 0 | Full disagreement | ELSE 0 |\n| -1 | Missing – all postcodes on the left and/or right datasets | WHEN (pc_l IS NULL AND wkplpc_l IS NULL AND second_home_pc_l IS NULL AND yradpc_l IS NULL) OR <br /> (pc_r IS NULL AND wkplpc_r IS NULL AND second_home_pc_r IS NULL AND yradpc_r IS NULL) <br /> THEN -1 |\n",
      "metadata": {}
    },
    {
      "cell_type": "markdown",
      "source": "## Industry Group",
      "metadata": {
        "tags": []
      }
    },
    {
      "cell_type": "markdown",
      "source": "| Agreement level | Agreement description | Case statement | \n| --- | --- | --- |\n| 4 | Full agreement and industry group is any other group | ELSE 4 |\n| 3 | Full agreement and industry group is ‘Professional Sciences and Technology’, ‘Administration Support’, ‘Transport and Storage’, ‘Information Communication’, ‘Financial and Insurance’, ‘Art, Entertainment and Recreation’ or ‘Other’ | WHEN (SIC_g_l = ‘M_ProfSciTech’ AND SIC_g_r ‘M_ProfSciTech’) THEN 3 <br /> WHEN (SIC_g_l = ‘N_AdminSupp’ AND SIC_g_r = ‘N_AdminSupp’) THEN 3 <br /> WHEN (SIC_g_l = ‘H_TranspStorage’ AND SIC_g_r = ‘H_TranspStorage’) THEN 3 <br /> WHEN (SIC_g_l = ‘J_InfoCommu’ AND SIC_g_r = ‘J_InfoCommu’) THEN 3 <br /> WHEN (SIC_g_l = ‘K_FinaInsur’ AND SIC_g_r = ‘K_FinaInsur’) THEN 3 <br /> WHEN (SIC_g_l = ‘R_ArtEnterRecr’ AND SIC_g_r = ‘R_ArtEnterRecr’) THEN 3 <br /> WHEN (SIC_g_l = ‘S_Other’ AND SIC_g_r = ‘S_Other’) THEN 3 |\n| 2 | Full agreement and industry group is ‘Accommodation and Food’, ‘Education’, ‘Public Administration, Defence and Social Sector’, ‘Construction’ or ‘Manufacturing’ | WHEN (SIC_g_l = ‘I_AccomFood’ AND SIC_g_r = ‘I_AccomFood’) THEN 2 <br /> WHEN (SIC_g_l = ‘P_Edu’ AND SIC_g_r = ‘P_Edu’) THEN 2 <br /> WHEN (SIC_g_l = ‘O_PubAdminDefenceSocSec’ AND SIC_g_r = ‘O_PubAdminDefenceSocSec’) THEN 2 <br /> WHEN (SIC_g_l = ‘F_Construction’ AND SIC_g_r = ‘F_Construction’) THEN 2 <br /> WHEN (SIC_g_l = ‘C_Manufacturing’ AND SIC_g_r = ‘C_Manufacturing’) THEN 2|\n| 1 | Full agreement and industry group is ‘Repair and Motoring’ or ‘Health and Social Work’ | WHEN (SIC_g_l = ‘G_RepairMotor’ AND SIC_g_r = ‘G_RepairMotor’) THEN 1 <br /> WHEN (SIC_g_l = ‘Q_HealthSocWork’ AND SIC_g_r = ‘Q_HealthSocWork’) THEN 1 |\n| 0 | Full disagreement | \n| -1 | Missing – one or both industry groups |\n",
      "metadata": {}
    }
  ]
}
