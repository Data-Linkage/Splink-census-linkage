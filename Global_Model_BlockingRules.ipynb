{
  "metadata": {
    "language_info": {
      "codemirror_mode": {
        "name": "python",
        "version": 3
      },
      "file_extension": ".py",
      "mimetype": "text/x-python",
      "name": "python",
      "nbconvert_exporter": "python",
      "pygments_lexer": "ipython3",
      "version": "3.8"
    },
    "kernelspec": {
      "name": "python",
      "display_name": "Python (Pyodide)",
      "language": "python"
    }
  },
  "nbformat_minor": 4,
  "nbformat": 4,
  "cells": [
    {
      "cell_type": "markdown",
      "source": "| Number | Blocking Rule |\n| -- | --- | \n| 1 | Exact match on: First name, Surname, Sex, Middle name (including when missing)| \n| 2 | Left dataset first name with right dataset middle name (transposition), Left dataset middle name with right dataset first name (transposition), Surname, Sex|\n| 3 | Left dataset first name with right dataset surname (transposition), Left dataset surname with right dataset first name (transposition), Middle name, Sex, Middle name (including when missing)|\n| 4 | First name metaphone 1, Surname metaphone 1, Date of birth, Sex |\n| 5 | Region, First name initial, Surname initial, Date of birth, Sex| \n| 6 | Main postcode area, First name, Surname, Middle name (except when missing), Sex|\n| 7 | Local Authority, First name, Surname metaphone 1, Middle name (except when missing), Sex|\n| 8 | Local Authority, Surname, First name metaphone 1, Middle name (except when missing), Sex|\n| 9 | Industry group, First name initial, One-year-ago postcode, Year of birth, Main postcode area|\n| 10 | Industry group, Surname initial, One-year-ago postcode, Year of birth, Main postcode area|\n| 11 | First name metaphone 2, Surname initial, Middle name initial, Date of birth|\n| 12 | Surname metaphone 2, First name initial, Middle name initial, Date of birth|\n| 13 | Surname metaphone 1, Main postcode area, Date of birth|\n| 14 | First name metaphone 1, Main postcode area, Date of birth| \n| 15 | First name initial, Workplace postcode, Main postcode area, Year of birth|\n| 16 | Surname initial, Workplace postcode, Main postcode area, Year of birth|\n| 17 | Surname, Date of birth, Sex|\n| 18 | First name, Date of birth, Sex| \n| 19 | First name metaphone 1, Middle name (except when missing), Date of birth, Sex|\n| 20 | Surname metaphone 1, Middle name (except when missing), Date of birth, Sex|\n| 21 | First name metaphone 1, Main postcode area, Date of birth, Sex|\n| 22 | Surname metaphone 1, Main postcode area, Date of birth, Sex| \n| 23 | First name, Surname last character, Sex, Date of birth|\n| 24 | Surname, First name last character, Sex, Date of birth|\n| 25 | First name second character, Surname initial, Sex, Date of birth|\n| 26 | Surname second character, First name initial, Sex, Date of birth|\n| 27 | One-year-ago postcode, Year of birth, Sex|\n| 28 | Second home postcode, Year of birth, Sex|\n| 29 | Workplace postcode, Year of birth, Sex|\n| 30 | Main postcode, Year of birth, Sex| \n| 31 | Left dataset main postcode with right dataset second home postcode (transposition)|\n| 32 | Left dataset second home postcode with right dataset main postcode (transposition)|\n| 33 | Left dataset main postcode with right dataset workplace postcode (transposition)|\n| 34 | Left dataset workplace postcode with right dataset main postcode (transposition)|\n| 35 | Left dataset main postcode with right dataset one-year-ago postcode (transposition)|\n| 36 | Left dataset one-year-ago postcode with right dataset main postcode (transposition)|\n| 37 | Left dataset one-year-ago postcode with right dataset second home postcode (transposition), Year of birth, Sex|\n| 38 | Left dataset second home postcode with right dataset one-year-ago postcode (transposition), Year of birth, Sex|\n| 39 | Left dataset workplace postcode with right dataset one-year-ago postcode (transposition), Year of birth, Sex|\n| 40 | Left dataset one-year-ago postcode with right dataset workplace postcode (transposition), Year of birth, Sex| \n| 41 | Left dataset second home postcode with right dataset workplace postcode (transposition), Year of birth, Sex| \n| 42 | Left dataset workplace postcode with right dataset second home postcode (transposition), Year of birth, Sex| \n\n\n\n\n\n\n\n\n\n ",
      "metadata": {}
    }
  ]
}